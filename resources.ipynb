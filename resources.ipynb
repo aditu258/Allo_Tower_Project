{
  "cells": [
    {
      "cell_type": "code",
      "execution_count": 1,
      "metadata": {
        "id": "AHBww3Vh_QQJ"
      },
      "outputs": [],
      "source": [
        "import os"
      ]
    },
    {
      "cell_type": "code",
      "execution_count": 2,
      "metadata": {
        "id": "DNtty1iu_QQM"
      },
      "outputs": [],
      "source": [
        "from langchain.text_splitter import CharacterTextSplitter"
      ]
    },
    {
      "cell_type": "code",
      "execution_count": 3,
      "metadata": {
        "id": "NW4o39ET_QQN"
      },
      "outputs": [],
      "source": [
        "from langchain_community.document_loaders import TextLoader"
      ]
    },
    {
      "cell_type": "code",
      "execution_count": 4,
      "metadata": {
        "id": "wgIf7QcK_QQO",
        "outputId": "8caebe85-52e1-407b-867b-de081b97b424"
      },
      "outputs": [
        {
          "name": "stderr",
          "output_type": "stream",
          "text": [
            "c:\\Users\\Lenovo\\OneDrive\\Desktop\\New_Allo_Tower\\Allo_Tower\\Lib\\site-packages\\tqdm\\auto.py:21: TqdmWarning: IProgress not found. Please update jupyter and ipywidgets. See https://ipywidgets.readthedocs.io/en/stable/user_install.html\n",
            "  from .autonotebook import tqdm as notebook_tqdm\n"
          ]
        }
      ],
      "source": [
        "from langchain_google_genai import ChatGoogleGenerativeAI"
      ]
    },
    {
      "cell_type": "code",
      "execution_count": 5,
      "metadata": {
        "id": "3COumTaQ_QQP"
      },
      "outputs": [],
      "source": [
        "from pinecone import Pinecone, ServerlessSpec"
      ]
    },
    {
      "cell_type": "code",
      "execution_count": 6,
      "metadata": {
        "id": "H2cYrW1r_QQQ"
      },
      "outputs": [],
      "source": [
        "from langchain_pinecone import PineconeVectorStore"
      ]
    },
    {
      "cell_type": "code",
      "execution_count": 7,
      "metadata": {
        "id": "gFd0BS-4_QQQ"
      },
      "outputs": [],
      "source": [
        "from dotenv import load_dotenv"
      ]
    },
    {
      "cell_type": "code",
      "execution_count": 8,
      "metadata": {
        "id": "dnlXdKmT_QQR"
      },
      "outputs": [],
      "source": [
        "from pinecone import Pinecone, ServerlessSpec"
      ]
    },
    {
      "cell_type": "code",
      "execution_count": null,
      "metadata": {
        "id": "X16YGR8q_QQS"
      },
      "outputs": [],
      "source": [
        "pc = Pinecone(api_key=\"\")"
      ]
    },
    {
      "cell_type": "code",
      "execution_count": 10,
      "metadata": {
        "id": "EzdqKyAY_QQS"
      },
      "outputs": [],
      "source": [
        "current_dir = os.getcwd()"
      ]
    },
    {
      "cell_type": "code",
      "execution_count": 11,
      "metadata": {
        "id": "brjPzBj7_QQS"
      },
      "outputs": [],
      "source": [
        "books_dir = os.path.join(current_dir, \"documents\")"
      ]
    },
    {
      "cell_type": "code",
      "execution_count": 12,
      "metadata": {
        "id": "MfLwb16g_QQT",
        "outputId": "d400cbe7-f1ff-4ebd-e4d2-120a0b1b1cd1"
      },
      "outputs": [
        {
          "name": "stdout",
          "output_type": "stream",
          "text": [
            "Current Directory: c:\\Users\\Lenovo\\OneDrive\\Desktop\\New_Allo_Tower\n",
            "Books Directory: c:\\Users\\Lenovo\\OneDrive\\Desktop\\New_Allo_Tower\\documents\n"
          ]
        }
      ],
      "source": [
        "print(\"Current Directory:\", current_dir)\n",
        "print(\"Books Directory:\", books_dir)"
      ]
    },
    {
      "cell_type": "code",
      "execution_count": 13,
      "metadata": {
        "id": "PyT3ibK7_QQT"
      },
      "outputs": [],
      "source": [
        "book_files = [f for f in os.listdir(books_dir) if f.endswith(\".txt\")]"
      ]
    },
    {
      "cell_type": "code",
      "execution_count": 14,
      "metadata": {
        "id": "I0-vLEAo_QQT",
        "outputId": "8d14e10b-6241-4528-d64f-95fcd04b2d3a"
      },
      "outputs": [
        {
          "name": "stdout",
          "output_type": "stream",
          "text": [
            "[\"Alice's_Adventures_in_Wonderland.txt\", 'Dracula.txt', 'Frankenstein.txt', 'lord_of_the_rings.txt']\n"
          ]
        }
      ],
      "source": [
        "print(book_files)"
      ]
    },
    {
      "cell_type": "code",
      "execution_count": 15,
      "metadata": {
        "id": "m1DiiACt_QQU"
      },
      "outputs": [],
      "source": [
        "documents = []\n",
        "for book_file in book_files:\n",
        "    file_path = os.path.join(books_dir, book_file)\n",
        "    loader = TextLoader(file_path)\n",
        "    book_docs = loader.load()\n",
        "    for doc in book_docs:\n",
        "        # Add metadata to each document indicating its source\n",
        "        doc.metadata = {\"source\": book_file}\n",
        "        documents.append(doc)"
      ]
    },
    {
      "cell_type": "code",
      "execution_count": 17,
      "metadata": {
        "id": "wQbdfE0M_QQU",
        "outputId": "49466a07-eb48-4f58-f26c-84be59092a2b"
      },
      "outputs": [
        {
          "name": "stderr",
          "output_type": "stream",
          "text": [
            "Created a chunk of size 1184, which is longer than the specified 1000\n",
            "Created a chunk of size 1045, which is longer than the specified 1000\n",
            "Created a chunk of size 1132, which is longer than the specified 1000\n",
            "Created a chunk of size 1674, which is longer than the specified 1000\n",
            "Created a chunk of size 1610, which is longer than the specified 1000\n",
            "Created a chunk of size 1562, which is longer than the specified 1000\n",
            "Created a chunk of size 1063, which is longer than the specified 1000\n",
            "Created a chunk of size 1543, which is longer than the specified 1000\n",
            "Created a chunk of size 2597, which is longer than the specified 1000\n",
            "Created a chunk of size 2613, which is longer than the specified 1000\n",
            "Created a chunk of size 1079, which is longer than the specified 1000\n",
            "Created a chunk of size 1251, which is longer than the specified 1000\n",
            "Created a chunk of size 1534, which is longer than the specified 1000\n",
            "Created a chunk of size 1323, which is longer than the specified 1000\n",
            "Created a chunk of size 1211, which is longer than the specified 1000\n",
            "Created a chunk of size 1071, which is longer than the specified 1000\n",
            "Created a chunk of size 1536, which is longer than the specified 1000\n",
            "Created a chunk of size 1021, which is longer than the specified 1000\n",
            "Created a chunk of size 1578, which is longer than the specified 1000\n",
            "Created a chunk of size 1185, which is longer than the specified 1000\n",
            "Created a chunk of size 1314, which is longer than the specified 1000\n",
            "Created a chunk of size 1485, which is longer than the specified 1000\n",
            "Created a chunk of size 1177, which is longer than the specified 1000\n",
            "Created a chunk of size 1781, which is longer than the specified 1000\n",
            "Created a chunk of size 3129, which is longer than the specified 1000\n",
            "Created a chunk of size 1153, which is longer than the specified 1000\n",
            "Created a chunk of size 1286, which is longer than the specified 1000\n",
            "Created a chunk of size 1430, which is longer than the specified 1000\n",
            "Created a chunk of size 1027, which is longer than the specified 1000\n",
            "Created a chunk of size 3687, which is longer than the specified 1000\n",
            "Created a chunk of size 1039, which is longer than the specified 1000\n",
            "Created a chunk of size 1714, which is longer than the specified 1000\n",
            "Created a chunk of size 1067, which is longer than the specified 1000\n",
            "Created a chunk of size 1121, which is longer than the specified 1000\n",
            "Created a chunk of size 1110, which is longer than the specified 1000\n",
            "Created a chunk of size 1412, which is longer than the specified 1000\n",
            "Created a chunk of size 1009, which is longer than the specified 1000\n",
            "Created a chunk of size 1797, which is longer than the specified 1000\n",
            "Created a chunk of size 1415, which is longer than the specified 1000\n",
            "Created a chunk of size 1015, which is longer than the specified 1000\n",
            "Created a chunk of size 2429, which is longer than the specified 1000\n",
            "Created a chunk of size 1283, which is longer than the specified 1000\n",
            "Created a chunk of size 1794, which is longer than the specified 1000\n",
            "Created a chunk of size 2736, which is longer than the specified 1000\n",
            "Created a chunk of size 3204, which is longer than the specified 1000\n",
            "Created a chunk of size 1769, which is longer than the specified 1000\n",
            "Created a chunk of size 1114, which is longer than the specified 1000\n",
            "Created a chunk of size 1052, which is longer than the specified 1000\n",
            "Created a chunk of size 1977, which is longer than the specified 1000\n",
            "Created a chunk of size 1463, which is longer than the specified 1000\n",
            "Created a chunk of size 1156, which is longer than the specified 1000\n",
            "Created a chunk of size 1146, which is longer than the specified 1000\n",
            "Created a chunk of size 1342, which is longer than the specified 1000\n",
            "Created a chunk of size 1986, which is longer than the specified 1000\n",
            "Created a chunk of size 1438, which is longer than the specified 1000\n",
            "Created a chunk of size 1885, which is longer than the specified 1000\n",
            "Created a chunk of size 2955, which is longer than the specified 1000\n",
            "Created a chunk of size 1559, which is longer than the specified 1000\n",
            "Created a chunk of size 1051, which is longer than the specified 1000\n",
            "Created a chunk of size 2354, which is longer than the specified 1000\n",
            "Created a chunk of size 1178, which is longer than the specified 1000\n",
            "Created a chunk of size 1860, which is longer than the specified 1000\n",
            "Created a chunk of size 1873, which is longer than the specified 1000\n",
            "Created a chunk of size 1591, which is longer than the specified 1000\n",
            "Created a chunk of size 1053, which is longer than the specified 1000\n",
            "Created a chunk of size 1085, which is longer than the specified 1000\n",
            "Created a chunk of size 2918, which is longer than the specified 1000\n",
            "Created a chunk of size 2112, which is longer than the specified 1000\n",
            "Created a chunk of size 4144, which is longer than the specified 1000\n",
            "Created a chunk of size 2179, which is longer than the specified 1000\n",
            "Created a chunk of size 1262, which is longer than the specified 1000\n",
            "Created a chunk of size 2192, which is longer than the specified 1000\n",
            "Created a chunk of size 1376, which is longer than the specified 1000\n",
            "Created a chunk of size 1073, which is longer than the specified 1000\n",
            "Created a chunk of size 1076, which is longer than the specified 1000\n",
            "Created a chunk of size 1384, which is longer than the specified 1000\n",
            "Created a chunk of size 2085, which is longer than the specified 1000\n",
            "Created a chunk of size 1094, which is longer than the specified 1000\n",
            "Created a chunk of size 1569, which is longer than the specified 1000\n",
            "Created a chunk of size 1009, which is longer than the specified 1000\n",
            "Created a chunk of size 1174, which is longer than the specified 1000\n",
            "Created a chunk of size 2634, which is longer than the specified 1000\n",
            "Created a chunk of size 1373, which is longer than the specified 1000\n",
            "Created a chunk of size 1906, which is longer than the specified 1000\n",
            "Created a chunk of size 1101, which is longer than the specified 1000\n",
            "Created a chunk of size 1045, which is longer than the specified 1000\n",
            "Created a chunk of size 1406, which is longer than the specified 1000\n",
            "Created a chunk of size 1077, which is longer than the specified 1000\n",
            "Created a chunk of size 1135, which is longer than the specified 1000\n",
            "Created a chunk of size 1226, which is longer than the specified 1000\n",
            "Created a chunk of size 1158, which is longer than the specified 1000\n",
            "Created a chunk of size 1106, which is longer than the specified 1000\n",
            "Created a chunk of size 1257, which is longer than the specified 1000\n",
            "Created a chunk of size 1155, which is longer than the specified 1000\n",
            "Created a chunk of size 1559, which is longer than the specified 1000\n",
            "Created a chunk of size 1324, which is longer than the specified 1000\n",
            "Created a chunk of size 1414, which is longer than the specified 1000\n",
            "Created a chunk of size 1123, which is longer than the specified 1000\n",
            "Created a chunk of size 1885, which is longer than the specified 1000\n",
            "Created a chunk of size 1439, which is longer than the specified 1000\n",
            "Created a chunk of size 1123, which is longer than the specified 1000\n",
            "Created a chunk of size 1184, which is longer than the specified 1000\n",
            "Created a chunk of size 1234, which is longer than the specified 1000\n",
            "Created a chunk of size 1159, which is longer than the specified 1000\n",
            "Created a chunk of size 1320, which is longer than the specified 1000\n",
            "Created a chunk of size 1231, which is longer than the specified 1000\n",
            "Created a chunk of size 3638, which is longer than the specified 1000\n",
            "Created a chunk of size 1307, which is longer than the specified 1000\n",
            "Created a chunk of size 1759, which is longer than the specified 1000\n",
            "Created a chunk of size 2203, which is longer than the specified 1000\n",
            "Created a chunk of size 1336, which is longer than the specified 1000\n",
            "Created a chunk of size 1012, which is longer than the specified 1000\n",
            "Created a chunk of size 1096, which is longer than the specified 1000\n",
            "Created a chunk of size 2214, which is longer than the specified 1000\n",
            "Created a chunk of size 2222, which is longer than the specified 1000\n",
            "Created a chunk of size 1673, which is longer than the specified 1000\n",
            "Created a chunk of size 1465, which is longer than the specified 1000\n",
            "Created a chunk of size 1069, which is longer than the specified 1000\n",
            "Created a chunk of size 1233, which is longer than the specified 1000\n",
            "Created a chunk of size 1518, which is longer than the specified 1000\n",
            "Created a chunk of size 1467, which is longer than the specified 1000\n",
            "Created a chunk of size 1397, which is longer than the specified 1000\n",
            "Created a chunk of size 1001, which is longer than the specified 1000\n",
            "Created a chunk of size 1927, which is longer than the specified 1000\n",
            "Created a chunk of size 1375, which is longer than the specified 1000\n",
            "Created a chunk of size 1369, which is longer than the specified 1000\n",
            "Created a chunk of size 1976, which is longer than the specified 1000\n",
            "Created a chunk of size 1123, which is longer than the specified 1000\n",
            "Created a chunk of size 1434, which is longer than the specified 1000\n",
            "Created a chunk of size 1043, which is longer than the specified 1000\n",
            "Created a chunk of size 2529, which is longer than the specified 1000\n",
            "Created a chunk of size 1517, which is longer than the specified 1000\n",
            "Created a chunk of size 1118, which is longer than the specified 1000\n",
            "Created a chunk of size 1640, which is longer than the specified 1000\n",
            "Created a chunk of size 1537, which is longer than the specified 1000\n",
            "Created a chunk of size 1016, which is longer than the specified 1000\n",
            "Created a chunk of size 1157, which is longer than the specified 1000\n",
            "Created a chunk of size 2064, which is longer than the specified 1000\n",
            "Created a chunk of size 1150, which is longer than the specified 1000\n",
            "Created a chunk of size 1701, which is longer than the specified 1000\n",
            "Created a chunk of size 1611, which is longer than the specified 1000\n",
            "Created a chunk of size 1460, which is longer than the specified 1000\n",
            "Created a chunk of size 2517, which is longer than the specified 1000\n",
            "Created a chunk of size 1249, which is longer than the specified 1000\n",
            "Created a chunk of size 1178, which is longer than the specified 1000\n",
            "Created a chunk of size 1072, which is longer than the specified 1000\n",
            "Created a chunk of size 1348, which is longer than the specified 1000\n",
            "Created a chunk of size 1508, which is longer than the specified 1000\n",
            "Created a chunk of size 2678, which is longer than the specified 1000\n",
            "Created a chunk of size 4727, which is longer than the specified 1000\n",
            "Created a chunk of size 1532, which is longer than the specified 1000\n",
            "Created a chunk of size 1107, which is longer than the specified 1000\n",
            "Created a chunk of size 1533, which is longer than the specified 1000\n",
            "Created a chunk of size 1179, which is longer than the specified 1000\n",
            "Created a chunk of size 1308, which is longer than the specified 1000\n",
            "Created a chunk of size 1243, which is longer than the specified 1000\n",
            "Created a chunk of size 1572, which is longer than the specified 1000\n",
            "Created a chunk of size 1230, which is longer than the specified 1000\n",
            "Created a chunk of size 1082, which is longer than the specified 1000\n",
            "Created a chunk of size 1466, which is longer than the specified 1000\n",
            "Created a chunk of size 1042, which is longer than the specified 1000\n",
            "Created a chunk of size 1065, which is longer than the specified 1000\n",
            "Created a chunk of size 1243, which is longer than the specified 1000\n",
            "Created a chunk of size 1903, which is longer than the specified 1000\n",
            "Created a chunk of size 2952, which is longer than the specified 1000\n",
            "Created a chunk of size 1619, which is longer than the specified 1000\n",
            "Created a chunk of size 1847, which is longer than the specified 1000\n",
            "Created a chunk of size 1110, which is longer than the specified 1000\n",
            "Created a chunk of size 1200, which is longer than the specified 1000\n",
            "Created a chunk of size 1632, which is longer than the specified 1000\n",
            "Created a chunk of size 1913, which is longer than the specified 1000\n",
            "Created a chunk of size 1066, which is longer than the specified 1000\n",
            "Created a chunk of size 1002, which is longer than the specified 1000\n",
            "Created a chunk of size 1120, which is longer than the specified 1000\n",
            "Created a chunk of size 1338, which is longer than the specified 1000\n",
            "Created a chunk of size 1202, which is longer than the specified 1000\n",
            "Created a chunk of size 2962, which is longer than the specified 1000\n",
            "Created a chunk of size 1176, which is longer than the specified 1000\n",
            "Created a chunk of size 1005, which is longer than the specified 1000\n",
            "Created a chunk of size 2145, which is longer than the specified 1000\n",
            "Created a chunk of size 1656, which is longer than the specified 1000\n",
            "Created a chunk of size 1149, which is longer than the specified 1000\n",
            "Created a chunk of size 2411, which is longer than the specified 1000\n",
            "Created a chunk of size 1697, which is longer than the specified 1000\n",
            "Created a chunk of size 1560, which is longer than the specified 1000\n",
            "Created a chunk of size 1606, which is longer than the specified 1000\n",
            "Created a chunk of size 1210, which is longer than the specified 1000\n",
            "Created a chunk of size 1132, which is longer than the specified 1000\n",
            "Created a chunk of size 1108, which is longer than the specified 1000\n",
            "Created a chunk of size 1220, which is longer than the specified 1000\n",
            "Created a chunk of size 1663, which is longer than the specified 1000\n",
            "Created a chunk of size 2425, which is longer than the specified 1000\n",
            "Created a chunk of size 1492, which is longer than the specified 1000\n",
            "Created a chunk of size 1560, which is longer than the specified 1000\n",
            "Created a chunk of size 1034, which is longer than the specified 1000\n",
            "Created a chunk of size 1604, which is longer than the specified 1000\n",
            "Created a chunk of size 1916, which is longer than the specified 1000\n",
            "Created a chunk of size 1610, which is longer than the specified 1000\n",
            "Created a chunk of size 1917, which is longer than the specified 1000\n",
            "Created a chunk of size 1609, which is longer than the specified 1000\n",
            "Created a chunk of size 1003, which is longer than the specified 1000\n",
            "Created a chunk of size 2690, which is longer than the specified 1000\n",
            "Created a chunk of size 2153, which is longer than the specified 1000\n",
            "Created a chunk of size 1964, which is longer than the specified 1000\n",
            "Created a chunk of size 1024, which is longer than the specified 1000\n",
            "Created a chunk of size 1193, which is longer than the specified 1000\n",
            "Created a chunk of size 1063, which is longer than the specified 1000\n",
            "Created a chunk of size 1550, which is longer than the specified 1000\n",
            "Created a chunk of size 1562, which is longer than the specified 1000\n",
            "Created a chunk of size 1671, which is longer than the specified 1000\n",
            "Created a chunk of size 2109, which is longer than the specified 1000\n",
            "Created a chunk of size 1669, which is longer than the specified 1000\n",
            "Created a chunk of size 1197, which is longer than the specified 1000\n",
            "Created a chunk of size 2059, which is longer than the specified 1000\n",
            "Created a chunk of size 1504, which is longer than the specified 1000\n",
            "Created a chunk of size 1041, which is longer than the specified 1000\n",
            "Created a chunk of size 1702, which is longer than the specified 1000\n",
            "Created a chunk of size 1800, which is longer than the specified 1000\n",
            "Created a chunk of size 1222, which is longer than the specified 1000\n",
            "Created a chunk of size 1392, which is longer than the specified 1000\n",
            "Created a chunk of size 2082, which is longer than the specified 1000\n",
            "Created a chunk of size 1347, which is longer than the specified 1000\n",
            "Created a chunk of size 1112, which is longer than the specified 1000\n",
            "Created a chunk of size 1230, which is longer than the specified 1000\n",
            "Created a chunk of size 1947, which is longer than the specified 1000\n",
            "Created a chunk of size 1067, which is longer than the specified 1000\n",
            "Created a chunk of size 1156, which is longer than the specified 1000\n",
            "Created a chunk of size 1769, which is longer than the specified 1000\n",
            "Created a chunk of size 1171, which is longer than the specified 1000\n",
            "Created a chunk of size 1077, which is longer than the specified 1000\n",
            "Created a chunk of size 1437, which is longer than the specified 1000\n",
            "Created a chunk of size 1401, which is longer than the specified 1000\n",
            "Created a chunk of size 1155, which is longer than the specified 1000\n",
            "Created a chunk of size 1116, which is longer than the specified 1000\n",
            "Created a chunk of size 1717, which is longer than the specified 1000\n",
            "Created a chunk of size 1184, which is longer than the specified 1000\n",
            "Created a chunk of size 1045, which is longer than the specified 1000\n",
            "Created a chunk of size 1132, which is longer than the specified 1000\n",
            "Created a chunk of size 1674, which is longer than the specified 1000\n",
            "Created a chunk of size 2200, which is longer than the specified 1000\n",
            "Created a chunk of size 1782, which is longer than the specified 1000\n",
            "Created a chunk of size 2255, which is longer than the specified 1000\n",
            "Created a chunk of size 1060, which is longer than the specified 1000\n",
            "Created a chunk of size 1497, which is longer than the specified 1000\n",
            "Created a chunk of size 1243, which is longer than the specified 1000\n",
            "Created a chunk of size 1493, which is longer than the specified 1000\n",
            "Created a chunk of size 1112, which is longer than the specified 1000\n",
            "Created a chunk of size 1614, which is longer than the specified 1000\n",
            "Created a chunk of size 1201, which is longer than the specified 1000\n",
            "Created a chunk of size 1201, which is longer than the specified 1000\n",
            "Created a chunk of size 1105, which is longer than the specified 1000\n",
            "Created a chunk of size 1216, which is longer than the specified 1000\n",
            "Created a chunk of size 1339, which is longer than the specified 1000\n",
            "Created a chunk of size 1260, which is longer than the specified 1000\n",
            "Created a chunk of size 1007, which is longer than the specified 1000\n",
            "Created a chunk of size 1344, which is longer than the specified 1000\n",
            "Created a chunk of size 1907, which is longer than the specified 1000\n",
            "Created a chunk of size 1103, which is longer than the specified 1000\n",
            "Created a chunk of size 1524, which is longer than the specified 1000\n",
            "Created a chunk of size 2317, which is longer than the specified 1000\n",
            "Created a chunk of size 1621, which is longer than the specified 1000\n",
            "Created a chunk of size 1693, which is longer than the specified 1000\n",
            "Created a chunk of size 1017, which is longer than the specified 1000\n",
            "Created a chunk of size 1185, which is longer than the specified 1000\n",
            "Created a chunk of size 2166, which is longer than the specified 1000\n",
            "Created a chunk of size 1135, which is longer than the specified 1000\n",
            "Created a chunk of size 1103, which is longer than the specified 1000\n",
            "Created a chunk of size 1617, which is longer than the specified 1000\n",
            "Created a chunk of size 1410, which is longer than the specified 1000\n",
            "Created a chunk of size 2042, which is longer than the specified 1000\n",
            "Created a chunk of size 1434, which is longer than the specified 1000\n",
            "Created a chunk of size 1253, which is longer than the specified 1000\n",
            "Created a chunk of size 1417, which is longer than the specified 1000\n",
            "Created a chunk of size 1053, which is longer than the specified 1000\n",
            "Created a chunk of size 1220, which is longer than the specified 1000\n",
            "Created a chunk of size 1002, which is longer than the specified 1000\n",
            "Created a chunk of size 1164, which is longer than the specified 1000\n",
            "Created a chunk of size 1151, which is longer than the specified 1000\n",
            "Created a chunk of size 1440, which is longer than the specified 1000\n",
            "Created a chunk of size 1091, which is longer than the specified 1000\n",
            "Created a chunk of size 1319, which is longer than the specified 1000\n",
            "Created a chunk of size 1138, which is longer than the specified 1000\n",
            "Created a chunk of size 1599, which is longer than the specified 1000\n",
            "Created a chunk of size 1259, which is longer than the specified 1000\n",
            "Created a chunk of size 1472, which is longer than the specified 1000\n",
            "Created a chunk of size 1045, which is longer than the specified 1000\n",
            "Created a chunk of size 1462, which is longer than the specified 1000\n",
            "Created a chunk of size 1202, which is longer than the specified 1000\n",
            "Created a chunk of size 1015, which is longer than the specified 1000\n",
            "Created a chunk of size 1707, which is longer than the specified 1000\n",
            "Created a chunk of size 1380, which is longer than the specified 1000\n",
            "Created a chunk of size 1117, which is longer than the specified 1000\n",
            "Created a chunk of size 1153, which is longer than the specified 1000\n",
            "Created a chunk of size 1433, which is longer than the specified 1000\n",
            "Created a chunk of size 1337, which is longer than the specified 1000\n",
            "Created a chunk of size 1544, which is longer than the specified 1000\n",
            "Created a chunk of size 1461, which is longer than the specified 1000\n",
            "Created a chunk of size 1181, which is longer than the specified 1000\n",
            "Created a chunk of size 1151, which is longer than the specified 1000\n",
            "Created a chunk of size 1013, which is longer than the specified 1000\n",
            "Created a chunk of size 1119, which is longer than the specified 1000\n",
            "Created a chunk of size 1488, which is longer than the specified 1000\n",
            "Created a chunk of size 1355, which is longer than the specified 1000\n",
            "Created a chunk of size 1264, which is longer than the specified 1000\n",
            "Created a chunk of size 1225, which is longer than the specified 1000\n",
            "Created a chunk of size 1302, which is longer than the specified 1000\n",
            "Created a chunk of size 1083, which is longer than the specified 1000\n",
            "Created a chunk of size 1035, which is longer than the specified 1000\n",
            "Created a chunk of size 1592, which is longer than the specified 1000\n",
            "Created a chunk of size 1177, which is longer than the specified 1000\n",
            "Created a chunk of size 1995, which is longer than the specified 1000\n",
            "Created a chunk of size 1277, which is longer than the specified 1000\n",
            "Created a chunk of size 1140, which is longer than the specified 1000\n",
            "Created a chunk of size 1249, which is longer than the specified 1000\n",
            "Created a chunk of size 1423, which is longer than the specified 1000\n",
            "Created a chunk of size 1051, which is longer than the specified 1000\n",
            "Created a chunk of size 1039, which is longer than the specified 1000\n",
            "Created a chunk of size 1130, which is longer than the specified 1000\n",
            "Created a chunk of size 1504, which is longer than the specified 1000\n",
            "Created a chunk of size 1376, which is longer than the specified 1000\n",
            "Created a chunk of size 1226, which is longer than the specified 1000\n",
            "Created a chunk of size 1021, which is longer than the specified 1000\n",
            "Created a chunk of size 1067, which is longer than the specified 1000\n",
            "Created a chunk of size 1347, which is longer than the specified 1000\n",
            "Created a chunk of size 1076, which is longer than the specified 1000\n",
            "Created a chunk of size 1261, which is longer than the specified 1000\n",
            "Created a chunk of size 1289, which is longer than the specified 1000\n",
            "Created a chunk of size 1312, which is longer than the specified 1000\n",
            "Created a chunk of size 1212, which is longer than the specified 1000\n",
            "Created a chunk of size 1066, which is longer than the specified 1000\n",
            "Created a chunk of size 1489, which is longer than the specified 1000\n",
            "Created a chunk of size 1502, which is longer than the specified 1000\n",
            "Created a chunk of size 1576, which is longer than the specified 1000\n",
            "Created a chunk of size 1659, which is longer than the specified 1000\n",
            "Created a chunk of size 1138, which is longer than the specified 1000\n",
            "Created a chunk of size 1488, which is longer than the specified 1000\n",
            "Created a chunk of size 1386, which is longer than the specified 1000\n",
            "Created a chunk of size 1184, which is longer than the specified 1000\n",
            "Created a chunk of size 1045, which is longer than the specified 1000\n",
            "Created a chunk of size 1132, which is longer than the specified 1000\n",
            "Created a chunk of size 1674, which is longer than the specified 1000\n",
            "Created a chunk of size 1619, which is longer than the specified 1000\n",
            "Created a chunk of size 1315, which is longer than the specified 1000\n",
            "Created a chunk of size 1058, which is longer than the specified 1000\n",
            "Created a chunk of size 1343, which is longer than the specified 1000\n",
            "Created a chunk of size 1329, which is longer than the specified 1000\n",
            "Created a chunk of size 1991, which is longer than the specified 1000\n",
            "Created a chunk of size 1414, which is longer than the specified 1000\n",
            "Created a chunk of size 1103, which is longer than the specified 1000\n",
            "Created a chunk of size 1198, which is longer than the specified 1000\n",
            "Created a chunk of size 1232, which is longer than the specified 1000\n",
            "Created a chunk of size 1195, which is longer than the specified 1000\n",
            "Created a chunk of size 1045, which is longer than the specified 1000\n",
            "Created a chunk of size 1503, which is longer than the specified 1000\n",
            "Created a chunk of size 1349, which is longer than the specified 1000\n",
            "Created a chunk of size 2063, which is longer than the specified 1000\n",
            "Created a chunk of size 1650, which is longer than the specified 1000\n"
          ]
        }
      ],
      "source": [
        "text_splitter = CharacterTextSplitter(chunk_size=1000, chunk_overlap=0)\n",
        "docs = text_splitter.split_documents(documents)"
      ]
    },
    {
      "cell_type": "code",
      "execution_count": 18,
      "metadata": {
        "id": "FqkPTtsb_QQV",
        "outputId": "4a59279f-e822-46b7-fb46-81c6a4ab0203"
      },
      "outputs": [
        {
          "name": "stdout",
          "output_type": "stream",
          "text": [
            "\n",
            "--- Document Chunks Information ---\n",
            "Number of document chunks: 1724\n"
          ]
        }
      ],
      "source": [
        "print(\"\\n--- Document Chunks Information ---\")\n",
        "print(f\"Number of document chunks: {len(docs)}\")"
      ]
    },
    {
      "cell_type": "code",
      "execution_count": 19,
      "metadata": {
        "id": "HgduFUaC_QQV"
      },
      "outputs": [],
      "source": [
        "from langchain_huggingface import HuggingFaceEmbeddings"
      ]
    },
    {
      "cell_type": "code",
      "execution_count": 20,
      "metadata": {
        "id": "gAw1MNJe_QQV"
      },
      "outputs": [],
      "source": [
        "embeddings = HuggingFaceEmbeddings(model_name='sentence-transformers/all-MiniLM-L6-v2')"
      ]
    },
    {
      "cell_type": "code",
      "execution_count": 21,
      "metadata": {
        "id": "e0PbhPhe_QQW",
        "outputId": "09ba714c-5c42-4d2b-c494-bcff3fac128f"
      },
      "outputs": [
        {
          "name": "stdout",
          "output_type": "stream",
          "text": [
            "Index 'test' created successfully.\n"
          ]
        }
      ],
      "source": [
        "index_name = \"test\"\n",
        "\n",
        "# Check if the index already exists\n",
        "existing_indexes = [index[\"name\"] for index in pc.list_indexes()]\n",
        "\n",
        "if index_name not in existing_indexes:\n",
        "    pc.create_index(\n",
        "        name=index_name,\n",
        "        dimension=384,\n",
        "        metric=\"cosine\",\n",
        "        spec=ServerlessSpec(\n",
        "            cloud=\"aws\",\n",
        "            region=\"us-east-1\"\n",
        "        )\n",
        "    )\n",
        "    print(f\"Index '{index_name}' created successfully.\")\n",
        "else:\n",
        "    print(f\"Index '{index_name}' already exists. Skipping creation.\")\n"
      ]
    },
    {
      "cell_type": "code",
      "execution_count": 22,
      "metadata": {
        "id": "ymE4EcPn_QQW"
      },
      "outputs": [],
      "source": [
        "vector_store = PineconeVectorStore.from_documents(\n",
        "    documents=docs,\n",
        "    embedding=embeddings,\n",
        "    index_name=index_name\n",
        ")"
      ]
    },
    {
      "cell_type": "code",
      "execution_count": 23,
      "metadata": {
        "id": "_PAfHGt5_QQW"
      },
      "outputs": [],
      "source": [
        "from google.cloud import firestore\n",
        "from langchain_google_firestore import FirestoreChatMessageHistory"
      ]
    },
    {
      "cell_type": "code",
      "execution_count": null,
      "metadata": {},
      "outputs": [
        {
          "name": "stdout",
          "output_type": "stream",
          "text": [
            "Chat history has been written to Firebase Realtime Database\n",
            "Data has been written to Firebase Realtime Database\n"
          ]
        }
      ],
      "source": [
        "import firebase_admin\n",
        "from firebase_admin import credentials,db\n",
        "cred=credentials.Certificate(r\"\")\n",
        "'''firebase_admin.initialize_app(cred,{\n",
        "    'databaseURL':r''\n",
        "})'''\n",
        "ref=db.reference('/')\n",
        "chat_history = [\n",
        "    {\"role\": \"system\", \"content\": \"You are a helpful assistant\"},\n",
        "    {\"role\": \"human\", \"content\": \"\"},\n",
        "    {\"role\": \"ai\", \"content\": \"I'm ready to assist you. How can I help?\"},\n",
        "    {\"role\": \"human\", \"content\": \"What is the summary of Alice's Adventures in Wonderland\"},\n",
        "    {\"role\": \"ai\", \"content\": \"Alice's Adventures in Wonderland tells the story of a young girl named Alice who falls down a rabbit hole...\"},\n",
        "    {\"role\": \"human\", \"content\": \"\"},\n",
        "    {\"role\": \"ai\", \"content\": \"Is there anything else I can help you with?\"}\n",
        "]\n",
        "\n",
        "# Insert chat history into Firebase\n",
        "ref.set({\"messages\": chat_history})\n",
        "\n",
        "print(\"Chat history has been written to Firebase Realtime Database\")\n",
        "ref.set(chat_history)\n",
        "print(\"Data has been written to Firebase Realtime Database\")\n"
      ]
    },
    {
      "cell_type": "code",
      "execution_count": 52,
      "metadata": {
        "id": "KdTH7cHO_QQX"
      },
      "outputs": [],
      "source": [
        "query = \"Where is Dracula's castle located?\""
      ]
    },
    {
      "cell_type": "code",
      "execution_count": 39,
      "metadata": {
        "id": "QQVUvDHd_QQY"
      },
      "outputs": [],
      "source": [
        "index_name=\"test\"\n",
        "docsearch = PineconeVectorStore.from_existing_index(\n",
        "    index_name=index_name,\n",
        "    embedding=embeddings\n",
        ")\n",
        "retriever = docsearch.as_retriever(search_type=\"similarity\", search_kwargs={\"k\": 3})\n",
        "retrieved_docs = retriever.invoke(query)"
      ]
    },
    {
      "cell_type": "code",
      "execution_count": 40,
      "metadata": {
        "id": "MsPpmOxq_QQY",
        "outputId": "c91d1749-9d91-48f3-a348-57d3d31d1026"
      },
      "outputs": [
        {
          "name": "stdout",
          "output_type": "stream",
          "text": [
            "[Document(id='d2278769-405e-40e9-b9ac-84cc4952a9e9', metadata={'source': 'Dracula.txt'}, page_content='Having had some time at my disposal when in London, I had visited the\\nBritish Museum, and made search among the books and maps in the library\\nregarding Transylvania; it had struck me that some foreknowledge of the\\ncountry could hardly fail to have some importance in dealing with a\\nnobleman of that country. I find that the district he named is in the\\nextreme east of the country, just on the borders of three states,\\nTransylvania, Moldavia and Bukovina, in the midst of the Carpathian\\nmountains; one of the wildest and least known portions of Europe. I was\\nnot able to light on any map or work giving the exact locality of the\\nCastle Dracula, as there are no maps of this country as yet to compare\\nwith our own Ordnance Survey maps; but I found that Bistritz, the post\\ntown named by Count Dracula, is a fairly well-known place. I shall enter\\nhere some of my notes, as they may refresh my memory when I talk over my\\ntravels with Mina.'), Document(id='a4a7c3f0-3dae-49c4-a4d4-4f03b8b571ae', metadata={'source': 'Dracula.txt'}, page_content='In the summer of this year we made a journey to Transylvania, and went\\nover the old ground which was, and is, to us so full of vivid and\\nterrible memories. It was almost impossible to believe that the things\\nwhich we had seen with our own eyes and heard with our own ears were\\nliving truths. Every trace of all that had been was blotted out. The\\ncastle stood as before, reared high above a waste of desolation.'), Document(id='1a5fcff8-2fc7-472e-9632-d03d4feb72d3', metadata={'source': 'Dracula.txt'}, page_content='The Project Gutenberg eBook of Dracula\\n    \\nThis ebook is for the use of anyone anywhere in the United States and\\nmost other parts of the world at no cost and with almost no restrictions\\nwhatsoever. You may copy it, give it away or re-use it under the terms\\nof the Project Gutenberg License included with this ebook or online\\nat www.gutenberg.org. If you are not located in the United States,\\nyou will have to check the laws of the country where you are located\\nbefore using this eBook.\\n\\nTitle: Dracula\\n\\nAuthor: Bram Stoker\\n\\nRelease date: October 1, 1995 [eBook #345]\\n                Most recently updated: November 12, 2023\\n\\nLanguage: English\\n\\nCredits: Chuck Greif and the Online Distributed Proofreading Team\\n\\n\\n*** START OF THE PROJECT GUTENBERG EBOOK DRACULA ***\\n\\n\\n                                DRACULA\\n\\n                                  _by_\\n\\n                              Bram Stoker\\n\\n                        [Illustration: colophon]\\n\\n                                NEW YORK')]\n"
          ]
        }
      ],
      "source": [
        "print(retrieved_docs)"
      ]
    },
    {
      "cell_type": "code",
      "execution_count": 41,
      "metadata": {
        "id": "_RX55UMP_QQY",
        "outputId": "b1dd222b-ab05-465f-b844-2a693745a711"
      },
      "outputs": [
        {
          "name": "stdout",
          "output_type": "stream",
          "text": [
            "\n",
            "--- Retrieved Documents ---\n",
            "Source: Dracula.txt\n",
            "Content: Having had some time at my disposal when in London, I had visited the\n",
            "British Museum, and made search among the books and maps in the library\n",
            "regarding Transylvania; it had struck me that some foreknowledge of the\n",
            "country could hardly fail to have some importance in dealing with a\n",
            "nobleman of that country. I find that the district he named is in the\n",
            "extreme east of the country, just on the borders of three states,\n",
            "Transylvania, Moldavia and Bukovina, in the midst of the Carpathian\n",
            "mountains; one of the wildest and least known portions of Europe. I was\n",
            "not able to light on any map or work giving the exact locality of the\n",
            "Castle Dracula, as there are no maps of this country as yet to compare\n",
            "with our own Ordnance Survey maps; but I found that Bistritz, the post\n",
            "town named by Count Dracula, is a fairly well-known place. I shall enter\n",
            "here some of my notes, as they may refresh my memory when I talk over my\n",
            "travels with Mina.\n",
            "----------------------------------------\n",
            "Source: Dracula.txt\n",
            "Content: In the summer of this year we made a journey to Transylvania, and went\n",
            "over the old ground which was, and is, to us so full of vivid and\n",
            "terrible memories. It was almost impossible to believe that the things\n",
            "which we had seen with our own eyes and heard with our own ears were\n",
            "living truths. Every trace of all that had been was blotted out. The\n",
            "castle stood as before, reared high above a waste of desolation.\n",
            "----------------------------------------\n",
            "Source: Dracula.txt\n",
            "Content: The Project Gutenberg eBook of Dracula\n",
            "    \n",
            "This ebook is for the use of anyone anywhere in the United States and\n",
            "most other parts of the world at no cost and with almost no restrictions\n",
            "whatsoever. You may copy it, give it away or re-use it under the terms\n",
            "of the Project Gutenberg License included with this ebook or online\n",
            "at www.gutenberg.org. If you are not located in the United States,\n",
            "you will have to check the laws of the country where you are located\n",
            "before using this eBook.\n",
            "\n",
            "Title: Dracula\n",
            "\n",
            "Author: Bram Stoker\n",
            "\n",
            "Release date: October 1, 1995 [eBook #345]\n",
            "                Most recently updated: November 12, 2023\n",
            "\n",
            "Language: English\n",
            "\n",
            "Credits: Chuck Greif and the Online Distributed Proofreading Team\n",
            "\n",
            "\n",
            "*** START OF THE PROJECT GUTENBERG EBOOK DRACULA ***\n",
            "\n",
            "\n",
            "                                DRACULA\n",
            "\n",
            "                                  _by_\n",
            "\n",
            "                              Bram Stoker\n",
            "\n",
            "                        [Illustration: colophon]\n",
            "\n",
            "                                NEW YORK\n",
            "----------------------------------------\n"
          ]
        }
      ],
      "source": [
        "print(\"\\n--- Retrieved Documents ---\")\n",
        "for doc in retrieved_docs:\n",
        "    print(f\"Source: {doc.metadata['source']}\")\n",
        "    print(f\"Content: {doc.page_content}\")\n",
        "    print(\"-\" * 40)"
      ]
    },
    {
      "cell_type": "code",
      "execution_count": 28,
      "metadata": {
        "id": "WnsUDP8J_QQY"
      },
      "outputs": [],
      "source": [
        "import time"
      ]
    },
    {
      "cell_type": "code",
      "execution_count": 29,
      "metadata": {
        "id": "kvA-mLXq_QQY"
      },
      "outputs": [],
      "source": [
        "import firebase_admin"
      ]
    },
    {
      "cell_type": "code",
      "execution_count": 30,
      "metadata": {
        "id": "wUPc8NgT_QQZ"
      },
      "outputs": [],
      "source": [
        "from firebase_admin import credentials, db"
      ]
    },
    {
      "cell_type": "code",
      "execution_count": 31,
      "metadata": {
        "id": "DbQKJXbp_QQZ"
      },
      "outputs": [],
      "source": [
        "from langchain.schema import HumanMessage, AIMessage"
      ]
    },
    {
      "cell_type": "code",
      "execution_count": 32,
      "metadata": {
        "id": "un-WGsDa_QQZ"
      },
      "outputs": [],
      "source": [
        "from langchain_core.messages import SystemMessage"
      ]
    },
    {
      "cell_type": "code",
      "execution_count": null,
      "metadata": {
        "id": "Zaes-FdJ_QQZ"
      },
      "outputs": [],
      "source": [
        "GOOGLE_API_KEY = \"\""
      ]
    },
    {
      "cell_type": "code",
      "execution_count": 42,
      "metadata": {
        "id": "kqykGfMd_QQZ"
      },
      "outputs": [],
      "source": [
        "model = ChatGoogleGenerativeAI(\n",
        "    model=\"gemini-1.5-pro\",\n",
        "    temperature=0,          # For deterministic responses\n",
        "    max_output_tokens=4048, # Limits response length\n",
        "    timeout=120,            # 2 minute timeout\n",
        "    max_retries=2,\n",
        "    google_api_key=GOOGLE_API_KEY\n",
        ")"
      ]
    },
    {
      "cell_type": "code",
      "execution_count": 53,
      "metadata": {
        "id": "PiXE4-q2_QQa"
      },
      "outputs": [],
      "source": [
        "ref = db.reference('/')"
      ]
    },
    {
      "cell_type": "code",
      "execution_count": 54,
      "metadata": {
        "id": "9FXX5H4Y_QQa"
      },
      "outputs": [],
      "source": [
        "stored_chat_history = ref.get() or []"
      ]
    },
    {
      "cell_type": "code",
      "execution_count": 55,
      "metadata": {
        "id": "EsJu_tPJ_QQl",
        "outputId": "120cc070-97a1-484e-cec9-d37dc7a6a136"
      },
      "outputs": [
        {
          "name": "stdout",
          "output_type": "stream",
          "text": [
            "[{'content': 'You are a helpful assistant', 'role': 'system'}, {'content': '', 'role': 'human'}, {'content': \"I'm ready to assist you. How can I help?\", 'role': 'ai'}, {'content': \"What is the summary of Alice's Adventures in Wonderland\", 'role': 'human'}, {'content': \"Alice's Adventures in Wonderland tells the story of a young girl named Alice who falls down a rabbit hole...\", 'role': 'ai'}, {'content': '', 'role': 'human'}, {'content': 'Is there anything else I can help you with?', 'role': 'ai'}]\n"
          ]
        }
      ],
      "source": [
        "print(stored_chat_history)"
      ]
    },
    {
      "cell_type": "code",
      "execution_count": 60,
      "metadata": {
        "id": "mRpenEGW_QQl"
      },
      "outputs": [],
      "source": [
        "from typing import List, Dict, Any\n",
        "from langchain.schema import HumanMessage, AIMessage, SystemMessage\n",
        "\n",
        "def deserialize_chat_history(stored_chat_history: List[Dict[str, Any]]) -> List[Any]:\n",
        "    deserialized_messages = []\n",
        "    \n",
        "    for message in stored_chat_history:\n",
        "        role = message.get(\"role\")  # Safely get role\n",
        "        content = message.get(\"content\", \"\")  # Ensure content is not empty\n",
        "        \n",
        "        if content:  # Only process messages with content\n",
        "            if role == \"human\":\n",
        "                deserialized_messages.append(HumanMessage(content=content))\n",
        "            elif role == \"ai\":\n",
        "                deserialized_messages.append(AIMessage(content=content))\n",
        "            elif role == \"system\":\n",
        "                deserialized_messages.append(SystemMessage(content=content))\n",
        "            else:\n",
        "                print(f\"Warning: Unrecognized role '{role}' in message, skipping.\")\n",
        "    \n",
        "    return deserialized_messages\n"
      ]
    },
    {
      "cell_type": "code",
      "execution_count": 61,
      "metadata": {
        "id": "4DiO3gaG_QQm"
      },
      "outputs": [],
      "source": [
        "chat_history = deserialize_chat_history(stored_chat_history)"
      ]
    },
    {
      "cell_type": "code",
      "execution_count": 62,
      "metadata": {
        "id": "r2bOy0OX_QQm"
      },
      "outputs": [],
      "source": [
        "chat_history.insert(0, SystemMessage(content=\"You are a helpful assistant\"))"
      ]
    },
    {
      "cell_type": "code",
      "execution_count": 63,
      "metadata": {
        "id": "r_-GQmE8_QQm",
        "outputId": "f4e1d1d9-bb9d-471b-f26c-a69768fe8674"
      },
      "outputs": [
        {
          "name": "stdout",
          "output_type": "stream",
          "text": [
            "Assistant: Hello there! How can I help you today?\n",
            "Assistant: Initially, Jonathan Harker is impressed by the grandeur and imposing nature of Dracula's castle, albeit with a sense of unease. He describes it with a mixture of awe and apprehension, noting its size, age, and the picturesque, albeit wild, Transylvanian landscape surrounding it. He finds the Count to be a courteous and intriguing host, though somewhat eccentric.\n",
            "\n",
            "However, as time progresses, Harker's perception of the castle shifts dramatically. He begins to notice unsettling details: the lack of servants, the Count's nocturnal habits, the locked doors, and the increasingly oppressive atmosphere.  His initial awe transforms into suspicion, then fear, and finally, outright terror as he realizes he is a prisoner and Dracula is a vampire. The castle, once a place of fascination, becomes a symbol of his confinement and the Count's sinister nature.  He starts to see it not as a grand residence, but as a prison, a place of dark secrets and supernatural horror.\n",
            "Chat session ended.\n"
          ]
        }
      ],
      "source": [
        "while True:\n",
        "    query = input(\"You: \").strip()\n",
        "    if not query:\n",
        "        print(\"Please enter a valid message.\")\n",
        "        continue\n",
        "    if query.lower() == \"exit\":\n",
        "        print(\"Chat session ended.\")\n",
        "        break\n",
        "\n",
        "    # Retrieve relevant documents\n",
        "    retrieved_docs = retriever.invoke(query)\n",
        "    retrieved_texts = \"\\n\".join([doc.page_content for doc in retrieved_docs])  # Extract text from documents\n",
        "\n",
        "    # Combine chat history, query, and retrieval results\n",
        "    chat_history.append(HumanMessage(content=query))\n",
        "    chat_history.append(SystemMessage(content=f\"Retrieved Context:\\n{retrieved_texts}\"))\n",
        "\n",
        "    # Generate response\n",
        "    result = model.invoke(chat_history)\n",
        "\n",
        "    if result.content.strip():\n",
        "        print(\"Assistant:\", result.content)\n",
        "        chat_history.append(AIMessage(content=result.content))"
      ]
    },
    {
      "cell_type": "code",
      "execution_count": 64,
      "metadata": {
        "id": "81xmQmPA_QQm"
      },
      "outputs": [],
      "source": [
        "def serialize_chat_history(chat_history):\n",
        "    serialized_messages = []\n",
        "    for message in chat_history:\n",
        "        if isinstance(message, HumanMessage):\n",
        "            serialized_messages.append({\"role\": \"human\", \"content\": message.content})\n",
        "        elif isinstance(message, AIMessage):\n",
        "            serialized_messages.append({\"role\": \"ai\", \"content\": message.content})\n",
        "    return serialized_messages"
      ]
    },
    {
      "cell_type": "code",
      "execution_count": 65,
      "metadata": {
        "id": "LmIO71dF_QQm",
        "outputId": "0184fa87-56bc-42d8-eb65-23b346b9ce90"
      },
      "outputs": [
        {
          "name": "stdout",
          "output_type": "stream",
          "text": [
            "Data saved successfully!\n"
          ]
        }
      ],
      "source": [
        "ref.set(serialize_chat_history(chat_history))\n",
        "print(\"Data saved successfully!\")"
      ]
    },
    {
      "cell_type": "code",
      "execution_count": null,
      "metadata": {
        "id": "PcUlNNgH_QQm"
      },
      "outputs": [],
      "source": []
    }
  ],
  "metadata": {
    "colab": {
      "provenance": []
    },
    "kernelspec": {
      "display_name": "Allo_Tower",
      "language": "python",
      "name": "python3"
    },
    "language_info": {
      "codemirror_mode": {
        "name": "ipython",
        "version": 3
      },
      "file_extension": ".py",
      "mimetype": "text/x-python",
      "name": "python",
      "nbconvert_exporter": "python",
      "pygments_lexer": "ipython3",
      "version": "3.12.0"
    }
  },
  "nbformat": 4,
  "nbformat_minor": 0
}
